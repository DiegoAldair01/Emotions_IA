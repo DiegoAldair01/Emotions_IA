{
  "cells": [
    {
      "cell_type": "code",
      "execution_count": 61,
      "metadata": {
        "colab": {
          "base_uri": "https://localhost:8080/"
        },
        "id": "Et9qcZcIFARK",
        "outputId": "f206a454-9e9b-4ef5-f816-5e5840375cf8"
      },
      "outputs": [
        {
          "output_type": "stream",
          "name": "stderr",
          "text": [
            "[nltk_data] Downloading package stopwords to /root/nltk_data...\n",
            "[nltk_data]   Package stopwords is already up-to-date!\n",
            "[nltk_data] Downloading package punkt to /root/nltk_data...\n",
            "[nltk_data]   Package punkt is already up-to-date!\n",
            "[nltk_data] Downloading package wordnet to /root/nltk_data...\n",
            "[nltk_data]   Package wordnet is already up-to-date!\n"
          ]
        },
        {
          "output_type": "execute_result",
          "data": {
            "text/plain": [
              "True"
            ]
          },
          "metadata": {},
          "execution_count": 61
        }
      ],
      "source": [
        "# Bibliotecas necesarias\n",
        "import pandas as pd\n",
        "import numpy as np\n",
        "import matplotlib.pyplot as plt\n",
        "import seaborn as sns\n",
        "from sklearn.model_selection import train_test_split\n",
        "from sklearn.feature_extraction.text import TfidfVectorizer\n",
        "from sklearn.metrics import accuracy_score, confusion_matrix, classification_report\n",
        "from scipy.sparse import csr_matrix\n",
        "from wordcloud import WordCloud\n",
        "from nltk.corpus import stopwords\n",
        "from nltk.tokenize import word_tokenize\n",
        "from nltk.stem import WordNetLemmatizer\n",
        "import nltk\n",
        "import contractions\n",
        "import re\n",
        "\n",
        "nltk.download('stopwords')\n",
        "nltk.download('punkt')\n",
        "nltk.download('wordnet')"
      ]
    },
    {
      "cell_type": "code",
      "source": [
        "!pip install contractions"
      ],
      "metadata": {
        "colab": {
          "base_uri": "https://localhost:8080/"
        },
        "id": "kx9OHEN5Gnui",
        "outputId": "36d3c5a5-fa9e-4874-d61d-33398c65de2e"
      },
      "execution_count": 62,
      "outputs": [
        {
          "output_type": "stream",
          "name": "stdout",
          "text": [
            "Requirement already satisfied: contractions in /usr/local/lib/python3.10/dist-packages (0.1.73)\n",
            "Requirement already satisfied: textsearch>=0.0.21 in /usr/local/lib/python3.10/dist-packages (from contractions) (0.0.24)\n",
            "Requirement already satisfied: anyascii in /usr/local/lib/python3.10/dist-packages (from textsearch>=0.0.21->contractions) (0.3.2)\n",
            "Requirement already satisfied: pyahocorasick in /usr/local/lib/python3.10/dist-packages (from textsearch>=0.0.21->contractions) (2.1.0)\n"
          ]
        }
      ]
    },
    {
      "cell_type": "code",
      "execution_count": 63,
      "metadata": {
        "id": "-n3jBsldFARP"
      },
      "outputs": [],
      "source": [
        "# Configurar palabras vacías (stopwords)\n",
        "stop_words = set(stopwords.words('english')) - {\"not\", \"no\", \"never\"}\n",
        "lemmatizer = WordNetLemmatizer()\n",
        "\n",
        "# Preprocesamiento de texto\n",
        "def preprocess_text(text):\n",
        "    text = contractions.fix(text)  # Expandir contracciones\n",
        "    text = re.sub(r'https?://\\S+|www\\.\\S+', '', text)  # Eliminar URLs\n",
        "    text = re.sub(r'<.*?>', '', text)  # Eliminar HTML\n",
        "    text = re.sub(r'[^\\w\\s]', '', text)  # Eliminar puntuación\n",
        "    text = re.sub(r'\\d+', '', text)  # Eliminar números\n",
        "    tokens = word_tokenize(text.lower())  # Convertir a minúsculas y tokenizar\n",
        "    tokens = [lemmatizer.lemmatize(word) for word in tokens if word not in stop_words]\n",
        "    return ' '.join(tokens)"
      ]
    },
    {
      "cell_type": "code",
      "execution_count": 64,
      "metadata": {
        "id": "CNPj6UxjFARM"
      },
      "outputs": [],
      "source": [
        "# Cargar el dataset\n",
        "#data = pd.read_csv(\"emotions_dataset.csv\")"
      ]
    },
    {
      "cell_type": "code",
      "source": [
        "# Cargar dataset desde drive\n",
        "from google.colab import drive\n",
        "drive.mount('/content/drive')\n",
        "\n",
        "# Ruta completa al archivo\n",
        "file_path = '/content/drive/MyDrive/IA/emotions_dataset.csv'\n",
        "\n",
        "# Cargar el archivo CSV\n",
        "data = pd.read_csv(file_path)"
      ],
      "metadata": {
        "colab": {
          "base_uri": "https://localhost:8080/"
        },
        "id": "Pu8_IcYhFp_7",
        "outputId": "a351cdd2-e38b-4e04-9cee-892f1dd9a438"
      },
      "execution_count": 65,
      "outputs": [
        {
          "output_type": "stream",
          "name": "stdout",
          "text": [
            "Drive already mounted at /content/drive; to attempt to forcibly remount, call drive.mount(\"/content/drive\", force_remount=True).\n"
          ]
        }
      ]
    },
    {
      "cell_type": "code",
      "execution_count": 66,
      "metadata": {
        "colab": {
          "base_uri": "https://localhost:8080/"
        },
        "id": "ofDYGfeLFARN",
        "outputId": "bd6f3202-ffb0-47f5-8787-1a6a6064c98e"
      },
      "outputs": [
        {
          "output_type": "stream",
          "name": "stdout",
          "text": [
            "   Unnamed: 0                                               text  label\n",
            "0           0      i just feel really helpless and heavy hearted      4\n",
            "1           1  ive enjoyed being able to slouch about relax a...      0\n",
            "2           2  i gave up my internship with the dmrg and am f...      4\n",
            "3           3                         i dont know i feel so lost      0\n",
            "4           4  i am a kindergarten teacher and i am thoroughl...      4\n",
            "label\n",
            "1    141067\n",
            "0    121187\n",
            "3     57317\n",
            "4     47712\n",
            "2     34554\n",
            "5     14972\n",
            "Name: count, dtype: int64\n",
            "The Shape Of Data Is : (416809, 3)\n"
          ]
        },
        {
          "output_type": "execute_result",
          "data": {
            "text/plain": [
              "0"
            ]
          },
          "metadata": {},
          "execution_count": 66
        }
      ],
      "source": [
        "# Análisis inicial\n",
        "print(data.head())  # Vista rápida de los datos\n",
        "print(data['label'].value_counts())  # Distribución de etiquetas\n",
        "\n",
        "print(f'The Shape Of Data Is : {data.shape}') # Forma de los datos\n",
        "data.isnull().sum()  # Verificar valores nulos\n",
        "\n",
        "data.duplicated().sum()  # Verificar valores duplicados\n"
      ]
    },
    {
      "cell_type": "code",
      "execution_count": 69,
      "metadata": {
        "id": "igIUR2xmFARN"
      },
      "outputs": [],
      "source": [
        "# Renombrar columnas\n",
        "data.rename(columns={\"text\": \"Texto\", \"label\": \"Emocion\"}, inplace=True)\n",
        "\n",
        "# Borrar columna de index si existe\n",
        "if 'Unnamed: 0' in data.columns:\n",
        "    data.drop('Unnamed: 0', axis=1, inplace=True)\n",
        "\n",
        "data.head()  # Vista rápida de los datos\n",
        "\n",
        "data_aux = data.copy()  # Copia de seguridad\n",
        "\n",
        "# Renombrar las emociones\n",
        "data_aux['Emocion'] = data_aux['Emocion'].replace({0: 'sadness', 1: 'joy', 2: 'love', 3: 'anger', 4: 'fear', 5: 'surprise'})\n"
      ]
    },
    {
      "cell_type": "code",
      "execution_count": 70,
      "metadata": {
        "colab": {
          "base_uri": "https://localhost:8080/",
          "height": 699
        },
        "id": "CIH9vLpWFARO",
        "outputId": "72b89e9a-a372-462d-ad8c-eff2730a6289"
      },
      "outputs": [
        {
          "output_type": "stream",
          "name": "stderr",
          "text": [
            "<ipython-input-70-066a537c0f5d>:13: FutureWarning: \n",
            "\n",
            "Passing `palette` without assigning `hue` is deprecated and will be removed in v0.14.0. Assign the `x` variable to `hue` and set `legend=False` for the same effect.\n",
            "\n",
            "  sns.barplot(x=count.index, y=count.values, ax=ax[1], palette=palette)\n"
          ]
        },
        {
          "output_type": "display_data",
          "data": {
            "text/plain": [
              "<Figure size 1200x600 with 2 Axes>"
            ],
            "image/png": "[encoded data removed]"
          },
          "metadata": {}
        }
      ],
      "source": [
        "# Analisis Grafico\n",
        "count = data_aux['Emocion'].value_counts()\n",
        "\n",
        "# Crear columna con dos subplots\n",
        "fig, ax = plt.subplots(1, 2, figsize=(12, 6), facecolor='white')\n",
        "\n",
        "# Grafico de barras\n",
        "palette = [\"#FF0000\", \"#FFA500\", \"#FFFF00\", \"#008000\", \"#0000FF\", \"#4B0082\"]\n",
        "sns.set_palette(palette)\n",
        "ax[0].pie(count, labels=count.index, autopct='%1.1f%%', startangle=90, shadow=True)\n",
        "ax[0].set_title('Distribución de Emociones')\n",
        "\n",
        "sns.barplot(x=count.index, y=count.values, ax=ax[1], palette=palette)\n",
        "ax[1].set_title('Conteo de emociones')\n",
        "\n",
        "plt.tight_layout()\n",
        "plt.show()"
      ]
    },
    {
      "cell_type": "code",
      "execution_count": 71,
      "metadata": {
        "id": "o4dN3sGEFARO"
      },
      "outputs": [],
      "source": [
        "# Separa el data set para visualizar las emociones\n",
        "sadness = data_aux[data_aux['Emocion'] == 'sadness']\n",
        "joy = data_aux[data_aux['Emocion'] == 'joy']\n",
        "love = data_aux[data_aux['Emocion'] == 'love']\n",
        "anger = data_aux[data_aux['Emocion'] == 'anger']\n",
        "fear = data_aux[data_aux['Emocion'] == 'fear']\n",
        "surprise = data_aux[data_aux['Emocion'] == 'surprise']"
      ]
    },
    {
      "cell_type": "code",
      "execution_count": 72,
      "metadata": {
        "colab": {
          "base_uri": "https://localhost:8080/",
          "height": 375
        },
        "id": "gbpwvb3hFARO",
        "outputId": "24c89b65-a695-4480-bad2-b07e75fe30f5"
      },
      "outputs": [
        {
          "output_type": "error",
          "ename": "KeyboardInterrupt",
          "evalue": "",
          "traceback": [
            "\u001b[0;31m---------------------------------------------------------------------------\u001b[0m",
            "\u001b[0;31mKeyboardInterrupt\u001b[0m                         Traceback (most recent call last)",
            "\u001b[0;32m<ipython-input-72-c448f9af6760>\u001b[0m in \u001b[0;36m<cell line: 11>\u001b[0;34m()\u001b[0m\n\u001b[1;32m      9\u001b[0m     \u001b[0mplt\u001b[0m\u001b[0;34m.\u001b[0m\u001b[0mshow\u001b[0m\u001b[0;34m(\u001b[0m\u001b[0;34m)\u001b[0m\u001b[0;34m\u001b[0m\u001b[0;34m\u001b[0m\u001b[0m\n\u001b[1;32m     10\u001b[0m \u001b[0;34m\u001b[0m\u001b[0m\n\u001b[0;32m---> 11\u001b[0;31m \u001b[0mwordcloud\u001b[0m\u001b[0;34m(\u001b[0m\u001b[0msadness\u001b[0m\u001b[0;34m,\u001b[0m \u001b[0;34m'Sadness'\u001b[0m\u001b[0;34m)\u001b[0m\u001b[0;34m\u001b[0m\u001b[0;34m\u001b[0m\u001b[0m\n\u001b[0m\u001b[1;32m     12\u001b[0m \u001b[0mwordcloud\u001b[0m\u001b[0;34m(\u001b[0m\u001b[0mjoy\u001b[0m\u001b[0;34m,\u001b[0m \u001b[0;34m'Joy'\u001b[0m\u001b[0;34m)\u001b[0m\u001b[0;34m\u001b[0m\u001b[0;34m\u001b[0m\u001b[0m\n\u001b[1;32m     13\u001b[0m \u001b[0mwordcloud\u001b[0m\u001b[0;34m(\u001b[0m\u001b[0mlove\u001b[0m\u001b[0;34m,\u001b[0m \u001b[0;34m'Love'\u001b[0m\u001b[0;34m)\u001b[0m\u001b[0;34m\u001b[0m\u001b[0;34m\u001b[0m\u001b[0m\n",
            "\u001b[0;32m<ipython-input-72-c448f9af6760>\u001b[0m in \u001b[0;36mwordcloud\u001b[0;34m(data, title)\u001b[0m\n\u001b[1;32m      1\u001b[0m \u001b[0;31m# Crear wordclouds\u001b[0m\u001b[0;34m\u001b[0m\u001b[0;34m\u001b[0m\u001b[0m\n\u001b[1;32m      2\u001b[0m \u001b[0;32mdef\u001b[0m \u001b[0mwordcloud\u001b[0m\u001b[0;34m(\u001b[0m\u001b[0mdata\u001b[0m\u001b[0;34m,\u001b[0m \u001b[0mtitle\u001b[0m\u001b[0;34m)\u001b[0m\u001b[0;34m:\u001b[0m\u001b[0;34m\u001b[0m\u001b[0;34m\u001b[0m\u001b[0m\n\u001b[0;32m----> 3\u001b[0;31m     \u001b[0mwordcloud\u001b[0m \u001b[0;34m=\u001b[0m \u001b[0mWordCloud\u001b[0m\u001b[0;34m(\u001b[0m\u001b[0mwidth\u001b[0m\u001b[0;34m=\u001b[0m\u001b[0;36m800\u001b[0m\u001b[0;34m,\u001b[0m \u001b[0mheight\u001b[0m\u001b[0;34m=\u001b[0m\u001b[0;36m800\u001b[0m\u001b[0;34m,\u001b[0m \u001b[0mbackground_color\u001b[0m\u001b[0;34m=\u001b[0m\u001b[0;34m'white'\u001b[0m\u001b[0;34m,\u001b[0m \u001b[0mmin_font_size\u001b[0m\u001b[0;34m=\u001b[0m\u001b[0;36m10\u001b[0m\u001b[0;34m)\u001b[0m\u001b[0;34m.\u001b[0m\u001b[0mgenerate\u001b[0m\u001b[0;34m(\u001b[0m\u001b[0;34m' '\u001b[0m\u001b[0;34m.\u001b[0m\u001b[0mjoin\u001b[0m\u001b[0;34m(\u001b[0m\u001b[0mdata\u001b[0m\u001b[0;34m[\u001b[0m\u001b[0;34m'Texto'\u001b[0m\u001b[0;34m]\u001b[0m\u001b[0;34m)\u001b[0m\u001b[0;34m)\u001b[0m\u001b[0;34m\u001b[0m\u001b[0;34m\u001b[0m\u001b[0m\n\u001b[0m\u001b[1;32m      4\u001b[0m     \u001b[0mplt\u001b[0m\u001b[0;34m.\u001b[0m\u001b[0mfigure\u001b[0m\u001b[0;34m(\u001b[0m\u001b[0mfigsize\u001b[0m\u001b[0;34m=\u001b[0m\u001b[0;34m(\u001b[0m\u001b[0;36m8\u001b[0m\u001b[0;34m,\u001b[0m \u001b[0;36m8\u001b[0m\u001b[0;34m)\u001b[0m\u001b[0;34m,\u001b[0m \u001b[0mfacecolor\u001b[0m\u001b[0;34m=\u001b[0m\u001b[0;32mNone\u001b[0m\u001b[0;34m)\u001b[0m\u001b[0;34m\u001b[0m\u001b[0;34m\u001b[0m\u001b[0m\n\u001b[1;32m      5\u001b[0m     \u001b[0mplt\u001b[0m\u001b[0;34m.\u001b[0m\u001b[0mimshow\u001b[0m\u001b[0;34m(\u001b[0m\u001b[0mwordcloud\u001b[0m\u001b[0;34m)\u001b[0m\u001b[0;34m\u001b[0m\u001b[0;34m\u001b[0m\u001b[0m\n",
            "\u001b[0;32m/usr/local/lib/python3.10/dist-packages/wordcloud/wordcloud.py\u001b[0m in \u001b[0;36mgenerate\u001b[0;34m(self, text)\u001b[0m\n\u001b[1;32m    640\u001b[0m         \u001b[0mself\u001b[0m\u001b[0;34m\u001b[0m\u001b[0;34m\u001b[0m\u001b[0m\n\u001b[1;32m    641\u001b[0m         \"\"\"\n\u001b[0;32m--> 642\u001b[0;31m         \u001b[0;32mreturn\u001b[0m \u001b[0mself\u001b[0m\u001b[0;34m.\u001b[0m\u001b[0mgenerate_from_text\u001b[0m\u001b[0;34m(\u001b[0m\u001b[0mtext\u001b[0m\u001b[0;34m)\u001b[0m\u001b[0;34m\u001b[0m\u001b[0;34m\u001b[0m\u001b[0m\n\u001b[0m\u001b[1;32m    643\u001b[0m \u001b[0;34m\u001b[0m\u001b[0m\n\u001b[1;32m    644\u001b[0m     \u001b[0;32mdef\u001b[0m \u001b[0m_check_generated\u001b[0m\u001b[0;34m(\u001b[0m\u001b[0mself\u001b[0m\u001b[0;34m)\u001b[0m\u001b[0;34m:\u001b[0m\u001b[0;34m\u001b[0m\u001b[0;34m\u001b[0m\u001b[0m\n",
            "\u001b[0;32m/usr/local/lib/python3.10/dist-packages/wordcloud/wordcloud.py\u001b[0m in \u001b[0;36mgenerate_from_text\u001b[0;34m(self, text)\u001b[0m\n\u001b[1;32m    621\u001b[0m         \u001b[0mself\u001b[0m\u001b[0;34m\u001b[0m\u001b[0;34m\u001b[0m\u001b[0m\n\u001b[1;32m    622\u001b[0m         \"\"\"\n\u001b[0;32m--> 623\u001b[0;31m         \u001b[0mwords\u001b[0m \u001b[0;34m=\u001b[0m \u001b[0mself\u001b[0m\u001b[0;34m.\u001b[0m\u001b[0mprocess_text\u001b[0m\u001b[0;34m(\u001b[0m\u001b[0mtext\u001b[0m\u001b[0;34m)\u001b[0m\u001b[0;34m\u001b[0m\u001b[0;34m\u001b[0m\u001b[0m\n\u001b[0m\u001b[1;32m    624\u001b[0m         \u001b[0mself\u001b[0m\u001b[0;34m.\u001b[0m\u001b[0mgenerate_from_frequencies\u001b[0m\u001b[0;34m(\u001b[0m\u001b[0mwords\u001b[0m\u001b[0;34m)\u001b[0m\u001b[0;34m\u001b[0m\u001b[0;34m\u001b[0m\u001b[0m\n\u001b[1;32m    625\u001b[0m         \u001b[0;32mreturn\u001b[0m \u001b[0mself\u001b[0m\u001b[0;34m\u001b[0m\u001b[0;34m\u001b[0m\u001b[0m\n",
            "\u001b[0;32m/usr/local/lib/python3.10/dist-packages/wordcloud/wordcloud.py\u001b[0m in \u001b[0;36mprocess_text\u001b[0;34m(self, text)\u001b[0m\n\u001b[1;32m    596\u001b[0m         \u001b[0mstopwords\u001b[0m \u001b[0;34m=\u001b[0m \u001b[0mset\u001b[0m\u001b[0;34m(\u001b[0m\u001b[0;34m[\u001b[0m\u001b[0mi\u001b[0m\u001b[0;34m.\u001b[0m\u001b[0mlower\u001b[0m\u001b[0;34m(\u001b[0m\u001b[0;34m)\u001b[0m \u001b[0;32mfor\u001b[0m \u001b[0mi\u001b[0m \u001b[0;32min\u001b[0m \u001b[0mself\u001b[0m\u001b[0;34m.\u001b[0m\u001b[0mstopwords\u001b[0m\u001b[0;34m]\u001b[0m\u001b[0;34m)\u001b[0m\u001b[0;34m\u001b[0m\u001b[0;34m\u001b[0m\u001b[0m\n\u001b[1;32m    597\u001b[0m         \u001b[0;32mif\u001b[0m \u001b[0mself\u001b[0m\u001b[0;34m.\u001b[0m\u001b[0mcollocations\u001b[0m\u001b[0;34m:\u001b[0m\u001b[0;34m\u001b[0m\u001b[0;34m\u001b[0m\u001b[0m\n\u001b[0;32m--> 598\u001b[0;31m             \u001b[0mword_counts\u001b[0m \u001b[0;34m=\u001b[0m \u001b[0munigrams_and_bigrams\u001b[0m\u001b[0;34m(\u001b[0m\u001b[0mwords\u001b[0m\u001b[0;34m,\u001b[0m \u001b[0mstopwords\u001b[0m\u001b[0;34m,\u001b[0m \u001b[0mself\u001b[0m\u001b[0;34m.\u001b[0m\u001b[0mnormalize_plurals\u001b[0m\u001b[0;34m,\u001b[0m \u001b[0mself\u001b[0m\u001b[0;34m.\u001b[0m\u001b[0mcollocation_threshold\u001b[0m\u001b[0;34m)\u001b[0m\u001b[0;34m\u001b[0m\u001b[0;34m\u001b[0m\u001b[0m\n\u001b[0m\u001b[1;32m    599\u001b[0m         \u001b[0;32melse\u001b[0m\u001b[0;34m:\u001b[0m\u001b[0;34m\u001b[0m\u001b[0;34m\u001b[0m\u001b[0m\n\u001b[1;32m    600\u001b[0m             \u001b[0;31m# remove stopwords\u001b[0m\u001b[0;34m\u001b[0m\u001b[0;34m\u001b[0m\u001b[0m\n",
            "\u001b[0;32m/usr/local/lib/python3.10/dist-packages/wordcloud/tokenization.py\u001b[0m in \u001b[0;36munigrams_and_bigrams\u001b[0;34m(words, stopwords, normalize_plurals, collocation_threshold)\u001b[0m\n\u001b[1;32m     46\u001b[0m     counts_unigrams, standard_form = process_tokens(\n\u001b[1;32m     47\u001b[0m         unigrams, normalize_plurals=normalize_plurals)\n\u001b[0;32m---> 48\u001b[0;31m     counts_bigrams, standard_form_bigrams = process_tokens(\n\u001b[0m\u001b[1;32m     49\u001b[0m         \u001b[0;34m[\u001b[0m\u001b[0;34m\" \"\u001b[0m\u001b[0;34m.\u001b[0m\u001b[0mjoin\u001b[0m\u001b[0;34m(\u001b[0m\u001b[0mbigram\u001b[0m\u001b[0;34m)\u001b[0m \u001b[0;32mfor\u001b[0m \u001b[0mbigram\u001b[0m \u001b[0;32min\u001b[0m \u001b[0mbigrams\u001b[0m\u001b[0;34m]\u001b[0m\u001b[0;34m,\u001b[0m\u001b[0;34m\u001b[0m\u001b[0;34m\u001b[0m\u001b[0m\n\u001b[1;32m     50\u001b[0m         normalize_plurals=normalize_plurals)\n",
            "\u001b[0;32m/usr/local/lib/python3.10/dist-packages/wordcloud/tokenization.py\u001b[0m in \u001b[0;36mprocess_tokens\u001b[0;34m(words, normalize_plurals)\u001b[0m\n\u001b[1;32m    131\u001b[0m         \u001b[0mfirst\u001b[0m \u001b[0;34m=\u001b[0m \u001b[0mmax\u001b[0m\u001b[0;34m(\u001b[0m\u001b[0mcase_dict\u001b[0m\u001b[0;34m.\u001b[0m\u001b[0mitems\u001b[0m\u001b[0;34m(\u001b[0m\u001b[0;34m)\u001b[0m\u001b[0;34m,\u001b[0m \u001b[0mkey\u001b[0m\u001b[0;34m=\u001b[0m\u001b[0mitem1\u001b[0m\u001b[0;34m)\u001b[0m\u001b[0;34m[\u001b[0m\u001b[0;36m0\u001b[0m\u001b[0;34m]\u001b[0m\u001b[0;34m\u001b[0m\u001b[0;34m\u001b[0m\u001b[0m\n\u001b[1;32m    132\u001b[0m         \u001b[0mfused_cases\u001b[0m\u001b[0;34m[\u001b[0m\u001b[0mfirst\u001b[0m\u001b[0;34m]\u001b[0m \u001b[0;34m=\u001b[0m \u001b[0msum\u001b[0m\u001b[0;34m(\u001b[0m\u001b[0mcase_dict\u001b[0m\u001b[0;34m.\u001b[0m\u001b[0mvalues\u001b[0m\u001b[0;34m(\u001b[0m\u001b[0;34m)\u001b[0m\u001b[0;34m)\u001b[0m\u001b[0;34m\u001b[0m\u001b[0;34m\u001b[0m\u001b[0m\n\u001b[0;32m--> 133\u001b[0;31m         \u001b[0mstandard_cases\u001b[0m\u001b[0;34m[\u001b[0m\u001b[0mword_lower\u001b[0m\u001b[0;34m]\u001b[0m \u001b[0;34m=\u001b[0m \u001b[0mfirst\u001b[0m\u001b[0;34m\u001b[0m\u001b[0;34m\u001b[0m\u001b[0m\n\u001b[0m\u001b[1;32m    134\u001b[0m     \u001b[0;32mif\u001b[0m \u001b[0mnormalize_plurals\u001b[0m\u001b[0;34m:\u001b[0m\u001b[0;34m\u001b[0m\u001b[0;34m\u001b[0m\u001b[0m\n\u001b[1;32m    135\u001b[0m         \u001b[0;31m# add plurals to fused cases:\u001b[0m\u001b[0;34m\u001b[0m\u001b[0;34m\u001b[0m\u001b[0m\n",
            "\u001b[0;31mKeyboardInterrupt\u001b[0m: "
          ]
        }
      ],
      "source": [
        "# Crear wordclouds\n",
        "def wordcloud(data, title):\n",
        "    wordcloud = WordCloud(width=800, height=800, background_color='white', min_font_size=10).generate(' '.join(data['Texto']))\n",
        "    plt.figure(figsize=(8, 8), facecolor=None)\n",
        "    plt.imshow(wordcloud)\n",
        "    plt.axis('off')\n",
        "    plt.title(title)\n",
        "    plt.tight_layout()\n",
        "    plt.show()\n",
        "\n",
        "wordcloud(sadness, 'Sadness')\n",
        "wordcloud(joy, 'Joy')\n",
        "wordcloud(love, 'Love')\n",
        "wordcloud(anger, 'Anger')\n",
        "wordcloud(fear, 'Fear')\n",
        "wordcloud(surprise, 'Surprise')"
      ]
    },
    {
      "cell_type": "code",
      "source": [
        "# Aplicar preprocesamiento al dataset\n",
        "data['clean_text'] = data['Texto'].apply(preprocess_text)\n",
        "\n",
        "# Mostrar resultados preprocesados\n",
        "print(data.head())"
      ],
      "metadata": {
        "colab": {
          "base_uri": "https://localhost:8080/"
        },
        "id": "fvxLLcP_TCs0",
        "outputId": "0db7b9bd-d72e-405a-8bf2-705738d5a971"
      },
      "execution_count": 74,
      "outputs": [
        {
          "output_type": "stream",
          "name": "stdout",
          "text": [
            "                                               Texto  Emocion  \\\n",
            "0      i just feel really helpless and heavy hearted        4   \n",
            "1  ive enjoyed being able to slouch about relax a...        0   \n",
            "2  i gave up my internship with the dmrg and am f...        4   \n",
            "3                         i dont know i feel so lost        0   \n",
            "4  i am a kindergarten teacher and i am thoroughl...        4   \n",
            "\n",
            "                                          clean_text  \n",
            "0                 feel really helpless heavy hearted  \n",
            "1  enjoyed able slouch relax unwind frankly neede...  \n",
            "2            gave internship dmrg feeling distraught  \n",
            "3                                 not know feel lost  \n",
            "4  kindergarten teacher thoroughly weary job take...  \n"
          ]
        }
      ]
    },
    {
      "cell_type": "code",
      "execution_count": 75,
      "metadata": {
        "id": "DofpK8xlFARP"
      },
      "outputs": [],
      "source": [
        "# División de datos\n",
        "X_train, X_test, y_train, y_test = train_test_split(data['clean_text'], data['Emocion'], test_size=0.2, random_state=42)\n",
        "\n",
        "# Vectorización usando TF-IDF\n",
        "vectorizer = TfidfVectorizer(max_features=5000)\n",
        "X_train_vec = csr_matrix(vectorizer.fit_transform(X_train))\n",
        "X_test_vec = csr_matrix(vectorizer.transform(X_test))\n",
        "\n",
        "# One-hot encoding de etiquetas\n",
        "num_classes = len(np.unique(y_train))\n",
        "y_train_one = np.eye(num_classes)[y_train]"
      ]
    },
    {
      "cell_type": "code",
      "execution_count": 76,
      "metadata": {
        "id": "3chPsg4kFARP"
      },
      "outputs": [],
      "source": [
        "# Definir funciones de activación y pérdida\n",
        "def softmax(z):\n",
        "    exp_z = np.exp(z - np.max(z, axis=1, keepdims=True))\n",
        "    return exp_z / np.sum(exp_z, axis=1, keepdims=True)\n",
        "\n",
        "def categorical_cross_entropy(y, y_pred):\n",
        "    epsilon = 1e-15\n",
        "    y_pred = np.clip(y_pred, epsilon, 1 - epsilon)\n",
        "    return -np.mean(np.sum(y * np.log(y_pred), axis=1))\n"
      ]
    },
    {
      "cell_type": "code",
      "execution_count": 82,
      "metadata": {
        "id": "6vzZ5wPYFARQ"
      },
      "outputs": [],
      "source": [
        "# Entrenamiento con mini-batch gradient descent\n",
        "def train_gradient_descen(X, y, learning_rate, epochs, batch_size=128, tol=1e-6, optimizer=\"adam\"):\n",
        "    weights = np.random.randn(X.shape[1], y.shape[1]) * 0.01  # Pesos inicializados aleatoriamente\n",
        "    bias = np.zeros((y.shape[1],))  # Sesgo inicial\n",
        "    losses = []\n",
        "\n",
        "    # Inicialización de Adam\n",
        "    m_w, v_w = np.zeros_like(weights), np.zeros_like(weights)\n",
        "    m_b, v_b = np.zeros_like(bias), np.zeros_like(bias)\n",
        "    beta1, beta2, eps = 0.9, 0.999, 1e-8\n",
        "    t = 0\n",
        "\n",
        "    for epoch in range(epochs):\n",
        "        for i in range(0, X.shape[0], batch_size):\n",
        "            X_batch = X[i:i + batch_size]\n",
        "            y_batch = y[i:i + batch_size]\n",
        "\n",
        "            # Predicción\n",
        "            linear_model = X_batch.dot(weights) + bias\n",
        "            y_pred = softmax(linear_model)\n",
        "\n",
        "            # Calcular gradientes\n",
        "            error = y_pred - y_batch\n",
        "            gradients_w = X_batch.T.dot(error) / batch_size\n",
        "            gradients_b = np.mean(error, axis=0)\n",
        "\n",
        "            # Optimización con Adam\n",
        "            if optimizer == \"adam\":\n",
        "                t += 1\n",
        "                m_w = beta1 * m_w + (1 - beta1) * gradients_w\n",
        "                v_w = beta2 * v_w + (1 - beta2) * (gradients_w ** 2)\n",
        "                m_b = beta1 * m_b + (1 - beta1) * gradients_b\n",
        "                v_b = beta2 * v_b + (1 - beta2) * (gradients_b ** 2)\n",
        "\n",
        "                m_w_hat = m_w / (1 - beta1 ** t)\n",
        "                v_w_hat = v_w / (1 - beta2 ** t)\n",
        "                m_b_hat = m_b / (1 - beta1 ** t)\n",
        "                v_b_hat = v_b / (1 - beta2 ** t)\n",
        "\n",
        "                weights -= learning_rate * m_w_hat / (np.sqrt(v_w_hat) + eps)\n",
        "                bias -= learning_rate * m_b_hat / (np.sqrt(v_b_hat) + eps)\n",
        "            else:  # SGD\n",
        "                weights -= learning_rate * gradients_w\n",
        "                bias -= learning_rate * gradients_b\n",
        "\n",
        "        # Calcular pérdida\n",
        "        loss = categorical_cross_entropy(y, softmax(X.dot(weights) + bias))\n",
        "        losses.append(loss)\n",
        "\n",
        "        # Early Stopping\n",
        "        if epoch > 1 and abs(losses[-1] - losses[-2]) < tol:\n",
        "            print(f\"Entrenamiento detenido en la época {epoch}, pérdida: {loss}\")\n",
        "            break\n",
        "\n",
        "        if epoch % 10 == 0:\n",
        "            print(f\"Época {epoch}, Pérdida: {loss}\")\n",
        "\n",
        "    return weights, bias, losses\n"
      ]
    },
    {
      "cell_type": "code",
      "execution_count": 78,
      "metadata": {
        "id": "YkZ0Mc5zFARQ"
      },
      "outputs": [],
      "source": [
        "# Predicción\n",
        "def predict(X, weights, bias):\n",
        "    linear_model = X.dot(weights) + bias\n",
        "    y_pred = softmax(linear_model)\n",
        "    return np.argmax(y_pred, axis=1)"
      ]
    },
    {
      "cell_type": "code",
      "execution_count": 83,
      "metadata": {
        "colab": {
          "base_uri": "https://localhost:8080/"
        },
        "id": "aM0qY53iFARQ",
        "outputId": "206f38aa-61cb-45a3-f51d-22e473b8e635"
      },
      "outputs": [
        {
          "output_type": "stream",
          "name": "stdout",
          "text": [
            "Época 0, Pérdida: 0.2568277071885388\n",
            "Época 10, Pérdida: 0.1826984609055522\n",
            "Entrenamiento detenido en la época 20, pérdida: 0.1805993101803664\n",
            "Precisión: 0.8928048751229577\n",
            "Informe de clasificación:\n",
            "               precision    recall  f1-score   support\n",
            "\n",
            "           0       0.94      0.94      0.94     24201\n",
            "           1       0.91      0.92      0.92     28164\n",
            "           2       0.78      0.77      0.78      6929\n",
            "           3       0.90      0.90      0.90     11441\n",
            "           4       0.83      0.84      0.84      9594\n",
            "           5       0.73      0.66      0.69      3033\n",
            "\n",
            "    accuracy                           0.89     83362\n",
            "   macro avg       0.85      0.84      0.84     83362\n",
            "weighted avg       0.89      0.89      0.89     83362\n",
            "\n"
          ]
        }
      ],
      "source": [
        "# Entrenar el modelo\n",
        "weights, bias, losses = train_gradient_descen(\n",
        "    X_train_vec, y_train_one, learning_rate=0.01, epochs=300, batch_size=128, tol=1e-4, optimizer=\"adam\"\n",
        ")\n",
        "\n",
        "# Evaluar el modelo\n",
        "y_pred = predict(X_test_vec, weights, bias)\n",
        "print(\"Precisión:\", accuracy_score(y_test, y_pred))\n",
        "print(\"Informe de clasificación:\\n\", classification_report(y_test, y_pred))"
      ]
    },
    {
      "cell_type": "code",
      "source": [
        "# Función para preprocesar una frase de prueba\n",
        "def preprocess_input_text(text):\n",
        "    text = contractions.fix(text)  # Expandir contracciones\n",
        "    text = re.sub(r'https?://\\S+|www\\.\\S+', '', text)  # Eliminar URLs\n",
        "    text = re.sub(r'<.*?>', '', text)  # Eliminar HTML\n",
        "    text = re.sub(r'[^\\w\\s]', '', text)  # Eliminar puntuación\n",
        "    text = re.sub(r'\\d+', '', text)  # Eliminar números\n",
        "    tokens = word_tokenize(text.lower())  # Convertir a minúsculas y tokenizar\n",
        "    tokens = [lemmatizer.lemmatize(word) for word in tokens if word not in stop_words]\n",
        "    return ' '.join(tokens)\n"
      ],
      "metadata": {
        "id": "MpJE0ZoHM9uX"
      },
      "execution_count": 86,
      "outputs": []
    },
    {
      "cell_type": "code",
      "source": [
        "# Definir las etiquetas de las clases\n",
        "class_labels = {0: 'sadness', 1: 'joy', 2: 'love', 3: 'anger', 4: 'fear', 5: 'surprise'}\n",
        "\n",
        "test_sentences = [\n",
        "    \"I feel happy about my promotion, but I am also nervous about the new responsibilities.\",\n",
        "    \"I don't know how to feel about this situation.\",\n",
        "    \"Sure, I’m happy for you, I guess.\",\n",
        "    \"I was angry when it happened, but now I just feel sad.\",\n",
        "    \"Wow, just what I needed today, another challenge.\",\n",
        "    \"This is everything I ever wanted, but why do I feel so unsettled?\",\n",
        "    \"I worked so hard for this moment, and now that it's here, I feel empty.\"\n",
        "]\n",
        "\n",
        "for sentence in test_sentences:\n",
        "    processed_text = preprocess_input_text(sentence)\n",
        "    test_vector = vectorizer.transform([processed_text])\n",
        "    predicted_class_index = predict(test_vector, weights, bias)\n",
        "    predicted_class = class_labels[predicted_class_index[0]]\n",
        "    print(f\"Frase: '{sentence}' → Emoción predicha: {predicted_class}\")\n"
      ],
      "metadata": {
        "colab": {
          "base_uri": "https://localhost:8080/"
        },
        "id": "xY0zKUgZOM_1",
        "outputId": "cb4c1dc9-dd05-48ca-e019-a45448287353"
      },
      "execution_count": 88,
      "outputs": [
        {
          "output_type": "stream",
          "name": "stdout",
          "text": [
            "Frase: 'I feel happy about my promotion, but I am also nervous about the new responsibilities.' → Emoción predicha: fear\n",
            "Frase: 'I don't know how to feel about this situation.' → Emoción predicha: joy\n",
            "Frase: 'Sure, I’m happy for you, I guess.' → Emoción predicha: joy\n",
            "Frase: 'I was angry when it happened, but now I just feel sad.' → Emoción predicha: anger\n",
            "Frase: 'Wow, just what I needed today, another challenge.' → Emoción predicha: sadness\n",
            "Frase: 'This is everything I ever wanted, but why do I feel so unsettled?' → Emoción predicha: joy\n",
            "Frase: 'I worked so hard for this moment, and now that it's here, I feel empty.' → Emoción predicha: sadness\n"
          ]
        }
      ]
    }
  ],
  "metadata": {
    "kernelspec": {
      "display_name": "Python 3",
      "name": "python3"
    },
    "language_info": {
      "codemirror_mode": {
        "name": "ipython",
        "version": 3
      },
      "file_extension": ".py",
      "mimetype": "text/x-python",
      "name": "python",
      "nbconvert_exporter": "python",
      "pygments_lexer": "ipython3",
      "version": "3.12.3"
    },
    "colab": {
      "provenance": [],
      "gpuType": "T4"
    },
    "accelerator": "GPU"
  },
  "nbformat": 4,
  "nbformat_minor": 0
}